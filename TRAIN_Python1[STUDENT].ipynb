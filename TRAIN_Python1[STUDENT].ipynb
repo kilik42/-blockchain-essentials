{
  "nbformat": 4,
  "nbformat_minor": 0,
  "metadata": {
    "colab": {
      "provenance": [],
      "include_colab_link": true
    },
    "kernelspec": {
      "name": "python3",
      "display_name": "Python 3"
    },
    "language_info": {
      "name": "python"
    }
  },
  "cells": [
    {
      "cell_type": "markdown",
      "metadata": {
        "id": "view-in-github",
        "colab_type": "text"
      },
      "source": [
        "<a href=\"https://colab.research.google.com/github/kilik42/-blockchain-essentials/blob/main/TRAIN_Python1%5BSTUDENT%5D.ipynb\" target=\"_parent\"><img src=\"https://colab.research.google.com/assets/colab-badge.svg\" alt=\"Open In Colab\"/></a>"
      ]
    },
    {
      "cell_type": "markdown",
      "source": [
        "#Lab 1: Python Basics\n",
        "\n",
        "---"
      ],
      "metadata": {
        "id": "K3JVwUgVElwe"
      }
    },
    {
      "cell_type": "markdown",
      "source": [
        "##**Part #0: Getting familiar with Google Colab**\n",
        "---"
      ],
      "metadata": {
        "id": "vFusVI8O6sd-"
      }
    },
    {
      "cell_type": "markdown",
      "source": [
        "###Practice Together #1\n",
        "\n",
        "---\n",
        "Let's practice changing the title of our notebook. Rename your notebook to \"Train PD Day 1\"."
      ],
      "metadata": {
        "id": "4EgRMGgY7J-X"
      }
    },
    {
      "cell_type": "markdown",
      "source": [
        "###Practice Together #2\n",
        "\n",
        "---\n",
        "Create a new text cell and type: \"This is a text cell.\""
      ],
      "metadata": {
        "id": "1977NXTR78g_"
      }
    },
    {
      "cell_type": "markdown",
      "source": [
        "###Practice Together #3\n",
        "\n",
        "---\n",
        "Create a new code cell and type: \"This is a code cell.\""
      ],
      "metadata": {
        "id": "7EcHRNJt8QaH"
      }
    },
    {
      "cell_type": "markdown",
      "source": [
        "###Practice Together #4\n",
        "\n",
        "---\n",
        "Run the code cell below. "
      ],
      "metadata": {
        "id": "Lgm13Kns8Vzi"
      }
    },
    {
      "cell_type": "code",
      "source": [
        "print(\"Hello World!\")"
      ],
      "metadata": {
        "id": "se-uUU8bE-Gn"
      },
      "execution_count": null,
      "outputs": []
    },
    {
      "cell_type": "markdown",
      "source": [
        "##**Part #1: Print Functions**\n",
        "---"
      ],
      "metadata": {
        "id": "Nncig8FoErJz"
      }
    },
    {
      "cell_type": "markdown",
      "source": [
        "###Practice Together #1\n",
        "\n",
        "---\n",
        "\n",
        "**Problem:** Create a code cell and type: `print(\"Hello!\")`."
      ],
      "metadata": {
        "id": "sicHQHskOR5k"
      }
    },
    {
      "cell_type": "markdown",
      "source": [
        "#####**Solution**"
      ],
      "metadata": {
        "id": "ATnc6EjIUBVf"
      }
    },
    {
      "cell_type": "code",
      "source": [
        "print(\"Hello!\")"
      ],
      "metadata": {
        "id": "HSlnFD2CDgOU"
      },
      "execution_count": null,
      "outputs": []
    },
    {
      "cell_type": "markdown",
      "source": [
        "###Practice Together #2\n",
        "\n",
        "---\n",
        "\n",
        "**Problem:** Create a code cell and type: `print(\"Today I learned about the basics of machine learning!\")`."
      ],
      "metadata": {
        "id": "gBznbwzhGVPa"
      }
    },
    {
      "cell_type": "markdown",
      "source": [
        "#####**Solution**"
      ],
      "metadata": {
        "id": "Tw_ZyQNsUDKc"
      }
    },
    {
      "cell_type": "code",
      "source": [
        "print(\"Today I learned about the basics of machine learning!\")"
      ],
      "metadata": {
        "colab": {
          "base_uri": "https://localhost:8080/"
        },
        "id": "SehFX0xjGYzW",
        "outputId": "e6b62888-24c5-49f7-8abe-38d3dd47e2bf"
      },
      "execution_count": null,
      "outputs": [
        {
          "output_type": "stream",
          "name": "stdout",
          "text": [
            "Today I learned about the basics of machine learning!\n"
          ]
        }
      ]
    },
    {
      "cell_type": "markdown",
      "source": [
        "---\n",
        "\n",
        "**Now your turn! Try Exercises #1-3 on your own.**\n",
        "\n",
        "---"
      ],
      "metadata": {
        "id": "BaXdKVoFi5Qd"
      }
    },
    {
      "cell_type": "markdown",
      "source": [
        "###Exercise #1\n",
        "\n",
        "---\n",
        "\n",
        "**Problem:** Print your favorite color."
      ],
      "metadata": {
        "id": "1FxKXJTnEuW5"
      }
    },
    {
      "cell_type": "code",
      "source": [],
      "metadata": {
        "id": "ev94xJlcpXo3"
      },
      "execution_count": null,
      "outputs": []
    },
    {
      "cell_type": "markdown",
      "source": [
        "###Exercise #2\n",
        "\n",
        "---\n",
        "**Problem:** Print a sentence that states the school you work at.\n"
      ],
      "metadata": {
        "id": "rGlILc5uFHhr"
      }
    },
    {
      "cell_type": "code",
      "source": [],
      "metadata": {
        "id": "ksGcBOdPFNwh"
      },
      "execution_count": null,
      "outputs": []
    },
    {
      "cell_type": "markdown",
      "source": [
        "###Exercise #3\n",
        "\n",
        "---\n",
        "**Problem:** Print the subject that you teach."
      ],
      "metadata": {
        "id": "uxrrgBQlFSSS"
      }
    },
    {
      "cell_type": "code",
      "source": [],
      "metadata": {
        "id": "-S0HsjPlFZgv"
      },
      "execution_count": null,
      "outputs": []
    },
    {
      "cell_type": "markdown",
      "source": [
        "---\n",
        "###Back To Lecture\n",
        "---\n"
      ],
      "metadata": {
        "id": "6c7e-a7BFd7x"
      }
    },
    {
      "cell_type": "markdown",
      "source": [
        "###Practice Together #3\n",
        "\n",
        "---\n",
        "\n",
        "**Problem:** Create a code cell and print your favorite number."
      ],
      "metadata": {
        "id": "nCe6tA7tHLIc"
      }
    },
    {
      "cell_type": "markdown",
      "source": [
        "#####**Solution**"
      ],
      "metadata": {
        "id": "1u9pcGB-UGY9"
      }
    },
    {
      "cell_type": "code",
      "source": [
        "print(30)"
      ],
      "metadata": {
        "id": "4ZQLPeZqHR_P"
      },
      "execution_count": null,
      "outputs": []
    },
    {
      "cell_type": "markdown",
      "source": [
        "###Practice Together #4\n",
        "\n",
        "---\n",
        "**Problem:** Create a code cell and print your zipcode."
      ],
      "metadata": {
        "id": "U4eyO4sCHVlb"
      }
    },
    {
      "cell_type": "markdown",
      "source": [
        "#####**Solution**"
      ],
      "metadata": {
        "id": "FAtlRU_xUIS5"
      }
    },
    {
      "cell_type": "code",
      "source": [
        "print(92110)"
      ],
      "metadata": {
        "colab": {
          "base_uri": "https://localhost:8080/"
        },
        "id": "WK5rKZQpHcfC",
        "outputId": "3cd1f598-335a-4dcd-9090-312225efc893"
      },
      "execution_count": null,
      "outputs": [
        {
          "output_type": "stream",
          "name": "stdout",
          "text": [
            "92110\n"
          ]
        }
      ]
    },
    {
      "cell_type": "markdown",
      "source": [
        "---\n",
        "\n",
        "**Now your turn! Try Exercises #4-6 on your own.**\n",
        "\n",
        "---"
      ],
      "metadata": {
        "id": "pZ07b0dxjr-k"
      }
    },
    {
      "cell_type": "markdown",
      "source": [
        "###Exercise #4\n",
        "\n",
        "---\n",
        "**Problem:** Print the number of months in a year."
      ],
      "metadata": {
        "id": "73KBI9U4IAnW"
      }
    },
    {
      "cell_type": "code",
      "source": [],
      "metadata": {
        "id": "zmA7sZEmUJtt"
      },
      "execution_count": null,
      "outputs": []
    },
    {
      "cell_type": "markdown",
      "source": [
        "###Exercise #5\n",
        "\n",
        "---\n",
        "**Problem:** Print the current year."
      ],
      "metadata": {
        "id": "1L9UH0tVIQS3"
      }
    },
    {
      "cell_type": "code",
      "source": [],
      "metadata": {
        "id": "6UcV-z_aULfy"
      },
      "execution_count": null,
      "outputs": []
    },
    {
      "cell_type": "markdown",
      "source": [
        "###Exercise #6\n",
        "\n",
        "---\n",
        "**Problem:** Print today's date in the following format: MDDYYYY."
      ],
      "metadata": {
        "id": "kEWPBjjYIWBY"
      }
    },
    {
      "cell_type": "code",
      "source": [],
      "metadata": {
        "id": "zVu0tbWyUNXK"
      },
      "execution_count": null,
      "outputs": []
    },
    {
      "cell_type": "markdown",
      "source": [
        "---\n",
        "###Back To Lecture\n",
        "---\n"
      ],
      "metadata": {
        "id": "IHoWW-vDIj4k"
      }
    },
    {
      "cell_type": "markdown",
      "source": [
        "##**Part #2: Variables**\n",
        "---"
      ],
      "metadata": {
        "id": "8ZlKbmO6kmGl"
      }
    },
    {
      "cell_type": "markdown",
      "source": [
        "###Practice Together #1\n",
        "\n",
        "---\n",
        "**Problem:** Create a variable called `my_school` and assign it to your school's name. Print this variable."
      ],
      "metadata": {
        "id": "6tp4GH_pFiXc"
      }
    },
    {
      "cell_type": "code",
      "source": [],
      "metadata": {
        "id": "mRRdH1SnF2ck"
      },
      "execution_count": null,
      "outputs": []
    },
    {
      "cell_type": "markdown",
      "source": [
        "#####**Solution**"
      ],
      "metadata": {
        "id": "nc1a83KXF3EM"
      }
    },
    {
      "cell_type": "code",
      "source": [
        "my_school = \"FULL NAME\"\n",
        "print(my_school)"
      ],
      "metadata": {
        "id": "cGkfdYW6F5D8"
      },
      "execution_count": null,
      "outputs": []
    },
    {
      "cell_type": "markdown",
      "source": [
        "###Practice Together #2\n",
        "\n",
        "---\n",
        "**Problem:** Create and name a variable with your favorite number as an integer. Print that variable."
      ],
      "metadata": {
        "id": "GeA492pRF9Et"
      }
    },
    {
      "cell_type": "code",
      "source": [],
      "metadata": {
        "id": "2UIxtgq1GEfP"
      },
      "execution_count": null,
      "outputs": []
    },
    {
      "cell_type": "markdown",
      "source": [
        "#####**Solution**"
      ],
      "metadata": {
        "id": "VFFLvgoQGFfA"
      }
    },
    {
      "cell_type": "code",
      "source": [
        "fav_number = 17\n",
        "print(fav_number)"
      ],
      "metadata": {
        "id": "eM8pqW40GHex"
      },
      "execution_count": null,
      "outputs": []
    },
    {
      "cell_type": "markdown",
      "source": [
        "---\n",
        "\n",
        "**Now your turn! Try Exercises #1-3 on your own.**\n",
        "\n",
        "---"
      ],
      "metadata": {
        "id": "jK_9G-b4Thcu"
      }
    },
    {
      "cell_type": "markdown",
      "source": [
        "###Exercise #1\n",
        "---\n",
        "**Problem:** Create and name a variable with your favorite number as a float. Print that variable."
      ],
      "metadata": {
        "id": "PFzpApaisZj3"
      }
    },
    {
      "cell_type": "code",
      "source": [],
      "metadata": {
        "id": "TJ1lbMmBseNz"
      },
      "execution_count": null,
      "outputs": []
    },
    {
      "cell_type": "markdown",
      "source": [
        "###Exercise #2\n",
        "\n",
        "---\n",
        "\n",
        "**Problem:** Look through the given declarations. Which ones are incorrect?\n",
        "\n",
        "```\n",
        "Var1 = 7\n",
        "VAR5 = 8 \n",
        "2var = 92\n",
        "first_last_name = \"james gooding\"\n",
        "Hello! = 0.283 \n",
        "variable24 = \"my favorite food is\"\n",
        "str = \"string\"\n",
        "```\n",
        "\n"
      ],
      "metadata": {
        "id": "idKFoy5PGMXj"
      }
    },
    {
      "cell_type": "markdown",
      "source": [
        "###Exercise #3\n",
        "\n",
        "---\n",
        "\n",
        "**Problem:** Create and a name a variable that stores a list of 3 fruits. Print that variable.\n",
        "\n"
      ],
      "metadata": {
        "id": "9spWwdiHrt_o"
      }
    },
    {
      "cell_type": "code",
      "source": [],
      "metadata": {
        "id": "28BdodiAszpO"
      },
      "execution_count": null,
      "outputs": []
    },
    {
      "cell_type": "markdown",
      "source": [
        "---\n",
        "###Back To Lecture\n",
        "---"
      ],
      "metadata": {
        "id": "zQraW7-mGkcl"
      }
    },
    {
      "cell_type": "markdown",
      "source": [
        "##**Part 2.1: Practice [Optional]**\n",
        "---"
      ],
      "metadata": {
        "id": "AlRkmUf0g_ap"
      }
    },
    {
      "cell_type": "markdown",
      "source": [
        "###**Practice with Print Functions**\n",
        "---"
      ],
      "metadata": {
        "id": "jpIfyDyItMAy"
      }
    },
    {
      "cell_type": "markdown",
      "source": [
        "###Exercise #1\n",
        "\n",
        "---\n",
        "**Problem:** Print your favorite animal."
      ],
      "metadata": {
        "id": "aR8G2Y7ygu3a"
      }
    },
    {
      "cell_type": "code",
      "source": [],
      "metadata": {
        "id": "lyUrgbDGhi59"
      },
      "execution_count": null,
      "outputs": []
    },
    {
      "cell_type": "markdown",
      "source": [
        "###Exercise #2\n",
        "\n",
        "---\n",
        "**Problem:** Print the name of your hometown."
      ],
      "metadata": {
        "id": "NMYFY1pyho_2"
      }
    },
    {
      "cell_type": "code",
      "source": [],
      "metadata": {
        "id": "UUCC63lahtPM"
      },
      "execution_count": null,
      "outputs": []
    },
    {
      "cell_type": "markdown",
      "source": [
        "###Exercise #3\n",
        "\n",
        "---\n",
        "**Problem:** Print the name of a planet."
      ],
      "metadata": {
        "id": "66MhWjSahzjg"
      }
    },
    {
      "cell_type": "code",
      "source": [],
      "metadata": {
        "id": "UXuQCRMPiRVF"
      },
      "execution_count": null,
      "outputs": []
    },
    {
      "cell_type": "markdown",
      "source": [
        "###Exercise #4\n",
        "\n",
        "---\n",
        "**Problem:** Print the current month."
      ],
      "metadata": {
        "id": "Sn3D4Ce_h6fx"
      }
    },
    {
      "cell_type": "code",
      "source": [],
      "metadata": {
        "id": "toHbDg8BiUpd"
      },
      "execution_count": null,
      "outputs": []
    },
    {
      "cell_type": "markdown",
      "source": [
        "###Exercise #5\n",
        "\n",
        "---\n",
        "**Problem:** Print the year that the U.S. Declaration of Independence was signed."
      ],
      "metadata": {
        "id": "XUcuPecCiA38"
      }
    },
    {
      "cell_type": "code",
      "source": [],
      "metadata": {
        "id": "DB-_9C5Yibb9"
      },
      "execution_count": null,
      "outputs": []
    },
    {
      "cell_type": "markdown",
      "source": [
        "###**Practice with Variables**\n",
        "---"
      ],
      "metadata": {
        "id": "iqe87oSRtQpv"
      }
    },
    {
      "cell_type": "markdown",
      "source": [
        "###Exercise #6\n",
        "\n",
        "---\n",
        "**Problem:** Create a variable called `pi` and assign it the value of the first 3 digits of pi. Print that variable."
      ],
      "metadata": {
        "id": "wereZo-Oipsn"
      }
    },
    {
      "cell_type": "code",
      "source": [],
      "metadata": {
        "id": "793qegk0jLlD"
      },
      "execution_count": null,
      "outputs": []
    },
    {
      "cell_type": "markdown",
      "source": [
        "###Exercise #7\n",
        "\n",
        "---\n",
        "**Problem:** Create and name a variable that stores the name of a type of flower. Print that variable."
      ],
      "metadata": {
        "id": "Ecey-PHLismJ"
      }
    },
    {
      "cell_type": "code",
      "source": [],
      "metadata": {
        "id": "KR4B3gQQjQzb"
      },
      "execution_count": null,
      "outputs": []
    },
    {
      "cell_type": "markdown",
      "source": [
        "###Exercise #8\n",
        "\n",
        "---\n",
        "**Problem:** Create a variable called `eye_color` and assign it the value of your eye color. Print that variable."
      ],
      "metadata": {
        "id": "SkL3X4Mli1oC"
      }
    },
    {
      "cell_type": "code",
      "source": [],
      "metadata": {
        "id": "rBqyVhzPjcLp"
      },
      "execution_count": null,
      "outputs": []
    },
    {
      "cell_type": "markdown",
      "source": [
        "###Exercise #9\n",
        "\n",
        "---\n",
        "**Problem:** Create and name a variable storing a list of 3 different languages. Print the variable."
      ],
      "metadata": {
        "id": "bzV0sjBGi6-_"
      }
    },
    {
      "cell_type": "code",
      "source": [],
      "metadata": {
        "id": "JhV7_eQwjm1S"
      },
      "execution_count": null,
      "outputs": []
    },
    {
      "cell_type": "markdown",
      "source": [
        "###Exercise #10\n",
        "\n",
        "---\n",
        "**Problem:** Create a variable named `sentence` and assign a sentence to it. Print the sentence."
      ],
      "metadata": {
        "id": "ZDFJre4vi-c3"
      }
    },
    {
      "cell_type": "code",
      "source": [],
      "metadata": {
        "id": "tPu3iVsBjvUT"
      },
      "execution_count": null,
      "outputs": []
    },
    {
      "cell_type": "markdown",
      "source": [
        "---\n",
        "###Back To Lecture\n",
        "---"
      ],
      "metadata": {
        "id": "OWLjhZ2Fj2dZ"
      }
    },
    {
      "cell_type": "markdown",
      "source": [
        "##**Part 3: Arithmetic Operators**\n",
        "---"
      ],
      "metadata": {
        "id": "H5MIexSZviqM"
      }
    },
    {
      "cell_type": "markdown",
      "source": [
        "###Practice Together #1\n",
        "\n",
        "---\n",
        "**Problem:** Print the sum of 3 and 2. Take note of the output."
      ],
      "metadata": {
        "id": "Nkrwij4gSu0h"
      }
    },
    {
      "cell_type": "code",
      "source": [],
      "metadata": {
        "id": "rwGjkCmrT8cp"
      },
      "execution_count": null,
      "outputs": []
    },
    {
      "cell_type": "markdown",
      "source": [
        "#####**Solution**"
      ],
      "metadata": {
        "id": "_QNpgLyRUSH6"
      }
    },
    {
      "cell_type": "code",
      "source": [
        "print(3+2)"
      ],
      "metadata": {
        "colab": {
          "base_uri": "https://localhost:8080/"
        },
        "id": "OXAO1uKITC81",
        "outputId": "abe7f634-536f-4ba5-9712-2aac5ac80356"
      },
      "execution_count": null,
      "outputs": [
        {
          "output_type": "stream",
          "name": "stdout",
          "text": [
            "5\n",
            "9.0\n",
            "11.5\n",
            "609.5999999999999\n"
          ]
        }
      ]
    },
    {
      "cell_type": "markdown",
      "source": [
        "###Practice Together #2\n",
        "\n",
        "---\n",
        "**Problem:** Print the sum of 7.0 and 2.0. Take note of the output."
      ],
      "metadata": {
        "id": "TMg9xuU4bGXO"
      }
    },
    {
      "cell_type": "code",
      "source": [],
      "metadata": {
        "id": "gxuz6DBtbS4b"
      },
      "execution_count": null,
      "outputs": []
    },
    {
      "cell_type": "markdown",
      "source": [
        "#####**Solution**"
      ],
      "metadata": {
        "id": "XF1b_AQ3al2A"
      }
    },
    {
      "cell_type": "code",
      "source": [
        "print(7.0+2.0)"
      ],
      "metadata": {
        "id": "9PCo_PDNZ2Ku"
      },
      "execution_count": null,
      "outputs": []
    },
    {
      "cell_type": "markdown",
      "source": [
        "###Practice Together #3\n",
        "\n",
        "---\n",
        "**Problem:** What is 23 divided by 2? Print the answer. Take note of the output."
      ],
      "metadata": {
        "id": "AoNyZMOLbHzG"
      }
    },
    {
      "cell_type": "code",
      "source": [],
      "metadata": {
        "id": "2qLvU5ArbX9e"
      },
      "execution_count": null,
      "outputs": []
    },
    {
      "cell_type": "markdown",
      "source": [
        "#####**Solution**"
      ],
      "metadata": {
        "id": "WHnVlAVobYyQ"
      }
    },
    {
      "cell_type": "code",
      "source": [
        "print(23/2)"
      ],
      "metadata": {
        "id": "ZTPfXyrhagSd"
      },
      "execution_count": null,
      "outputs": []
    },
    {
      "cell_type": "markdown",
      "source": [
        "###Practice Together #4\n",
        "\n",
        "---\n",
        "**Problem:** Print the product of 24.0 and 25.4. Take note of the output."
      ],
      "metadata": {
        "id": "MAhg9IhNbIW9"
      }
    },
    {
      "cell_type": "code",
      "source": [],
      "metadata": {
        "id": "vQouy4o_brEN"
      },
      "execution_count": null,
      "outputs": []
    },
    {
      "cell_type": "markdown",
      "source": [
        "#####**Solution**"
      ],
      "metadata": {
        "id": "7a2ipPcBbrmd"
      }
    },
    {
      "cell_type": "code",
      "source": [
        "print(24.0*25.4)"
      ],
      "metadata": {
        "id": "FzaKcMktag7Y"
      },
      "execution_count": null,
      "outputs": []
    },
    {
      "cell_type": "markdown",
      "source": [
        "---\n",
        "\n",
        "**Now your turn! Try Exercises #1-3 on your own.**\n",
        "\n",
        "---"
      ],
      "metadata": {
        "id": "Ttxn0Y39k4mS"
      }
    },
    {
      "cell_type": "markdown",
      "source": [
        "###Exercise #1\n",
        "---\n",
        "**Problem:** Print the sum of 13 and 27."
      ],
      "metadata": {
        "id": "bAfEeCA5gwqX"
      }
    },
    {
      "cell_type": "code",
      "source": [],
      "metadata": {
        "id": "nlNB4BF_jsEt"
      },
      "execution_count": null,
      "outputs": []
    },
    {
      "cell_type": "markdown",
      "source": [
        "###Exercise #2\n",
        "---\n",
        "**Problem:** What is the product of 1000 and 3000? Print the result."
      ],
      "metadata": {
        "id": "d_U6ur7jgxTk"
      }
    },
    {
      "cell_type": "code",
      "source": [],
      "metadata": {
        "id": "i3mHYwJaj02C"
      },
      "execution_count": null,
      "outputs": []
    },
    {
      "cell_type": "markdown",
      "source": [
        "###Exercise #3\n",
        "---\n",
        "**Problem:** Divide 250 by 50. Print the result."
      ],
      "metadata": {
        "id": "JbFm4hjKgxfX"
      }
    },
    {
      "cell_type": "code",
      "source": [],
      "metadata": {
        "id": "NCZtaMI1jF4r"
      },
      "execution_count": null,
      "outputs": []
    },
    {
      "cell_type": "markdown",
      "source": [
        "---\n",
        "###Back To Lecture\n",
        "---"
      ],
      "metadata": {
        "id": "wOMCDmWkkZB9"
      }
    },
    {
      "cell_type": "markdown",
      "source": [
        "###Practice Together #5\n",
        "\n",
        "---\n",
        "**Problem:** Create and name a variable `fav_number` with your favorite number as an integer. Multiply the variable by 3 and print the result."
      ],
      "metadata": {
        "id": "EcB4WGxvTKYZ"
      }
    },
    {
      "cell_type": "code",
      "source": [],
      "metadata": {
        "id": "0hNxBDXHUT77"
      },
      "execution_count": null,
      "outputs": []
    },
    {
      "cell_type": "markdown",
      "source": [
        "#####**Solution**"
      ],
      "metadata": {
        "id": "UJ47mO67UUJ_"
      }
    },
    {
      "cell_type": "code",
      "source": [
        "fav_number = 17\n",
        "result = 17*3\n",
        "print(result)"
      ],
      "metadata": {
        "id": "O7Nm7mjoTPhX"
      },
      "execution_count": null,
      "outputs": []
    },
    {
      "cell_type": "markdown",
      "source": [
        "###Practice Together #6\n",
        "\n",
        "---\n",
        "**Problem:** You have 2 bananas and 5 apples. How many fruits do you have in total?"
      ],
      "metadata": {
        "id": "1cPGnpbfTdGP"
      }
    },
    {
      "cell_type": "code",
      "source": [
        "bananas = 2\n",
        "apples = 5\n",
        "#add code here"
      ],
      "metadata": {
        "id": "cUws429IUVhO"
      },
      "execution_count": null,
      "outputs": []
    },
    {
      "cell_type": "markdown",
      "source": [
        "#####**Solution**"
      ],
      "metadata": {
        "id": "bjrA3SkLUV0n"
      }
    },
    {
      "cell_type": "code",
      "source": [
        "bananas = 2\n",
        "apples = 5\n",
        "fruits = bananas + apples\n",
        "print(fruits)"
      ],
      "metadata": {
        "colab": {
          "base_uri": "https://localhost:8080/"
        },
        "id": "pMz7a8IbTf-_",
        "outputId": "ece3be61-528f-4cd7-fcce-7100922d70f9"
      },
      "execution_count": null,
      "outputs": [
        {
          "output_type": "stream",
          "name": "stdout",
          "text": [
            "7\n"
          ]
        }
      ]
    },
    {
      "cell_type": "markdown",
      "source": [
        "###Practice Together #7\n",
        "\n",
        "---\n",
        "**Problem:** You got a 90 on your biology test, and then answered the extra credit question, which gave you an additional 4 points.\n",
        "\n"
      ],
      "metadata": {
        "id": "fn83nMUNTmfx"
      }
    },
    {
      "cell_type": "code",
      "source": [
        "original_grade = 90\n",
        "bonus = 4\n",
        "# add code here"
      ],
      "metadata": {
        "id": "FMtsQNH0UXsB"
      },
      "execution_count": null,
      "outputs": []
    },
    {
      "cell_type": "markdown",
      "source": [
        "#####**Solution**"
      ],
      "metadata": {
        "id": "cJDaOTHEUX6_"
      }
    },
    {
      "cell_type": "code",
      "source": [
        "original_grade = 90\n",
        "bonus = 4\n",
        "final_grade = original_grade + bonus\n",
        "print(final_grade)"
      ],
      "metadata": {
        "colab": {
          "base_uri": "https://localhost:8080/"
        },
        "id": "4i_eMZH4TsiG",
        "outputId": "9ee45a2f-e296-4bce-8205-4eea3115fc3b"
      },
      "execution_count": null,
      "outputs": [
        {
          "output_type": "stream",
          "name": "stdout",
          "text": [
            "94\n"
          ]
        }
      ]
    },
    {
      "cell_type": "markdown",
      "source": [
        "---\n",
        "\n",
        "**Now your turn! Try Exercises #4-6 on your own.**\n",
        "\n",
        "---"
      ],
      "metadata": {
        "id": "uei-y06lk8dm"
      }
    },
    {
      "cell_type": "markdown",
      "source": [
        "###Exercise #4\n",
        "\n",
        "---\n",
        "**Problem:** The length and width of a rectangle are 5 and 8, respectively. Calculate the area of a rectangle using these variables and print the result."
      ],
      "metadata": {
        "id": "jzGCZY4Vy4wq"
      }
    },
    {
      "cell_type": "code",
      "source": [
        "length = 5\n",
        "width = 8\n",
        "# add code here"
      ],
      "metadata": {
        "id": "W0m-Cu7600R5"
      },
      "execution_count": null,
      "outputs": []
    },
    {
      "cell_type": "markdown",
      "source": [
        "###Exercise #5\n",
        "\n",
        "---\n",
        "**Problem:** Create three variables `num1`, `num2`, and `num3` and assign them the values of 5, 24, and 67, respectively. Then calculate the average of these three numbers."
      ],
      "metadata": {
        "id": "nqFlPpynzsCE"
      }
    },
    {
      "cell_type": "code",
      "source": [],
      "metadata": {
        "id": "xcZdD-_A1nHc"
      },
      "execution_count": null,
      "outputs": []
    },
    {
      "cell_type": "markdown",
      "source": [
        "###Exercise #6\n",
        "\n",
        "---\n",
        "**Problem:** Create a variable named `temperature` and assign a value of 25. Convert the temperature from Celsius to Fahrenheit using the formula (`temperature` * 9/5) + 32 and print the result."
      ],
      "metadata": {
        "id": "YFE22tI8zsJI"
      }
    },
    {
      "cell_type": "code",
      "source": [],
      "metadata": {
        "id": "FsLpVgJN7uXG"
      },
      "execution_count": null,
      "outputs": []
    },
    {
      "cell_type": "markdown",
      "source": [
        "---\n",
        "###Back To Lecture\n",
        "---"
      ],
      "metadata": {
        "id": "QC52fy-oT2Wv"
      }
    },
    {
      "cell_type": "markdown",
      "source": [
        "##**PART 4: Independent Practice**\n",
        "---"
      ],
      "metadata": {
        "id": "ifCz5BOUJsZG"
      }
    },
    {
      "cell_type": "markdown",
      "source": [
        "### Exercise #1\n",
        "---\n",
        "\n",
        "**Problem:** What's wrong with the following declaration? \n",
        "\n",
        "A) \n",
        "```\n",
        "1var = 323.0\n",
        "```\n",
        "B) \n",
        "```\n",
        "month@month = \"July\" \n",
        "```\n",
        "\n",
        "C)\n",
        "```\n",
        "month year = \"july2020\"\n",
        "```"
      ],
      "metadata": {
        "id": "KVG4EcnAFl_D"
      }
    },
    {
      "cell_type": "markdown",
      "source": [
        "###Exercise #2\n",
        "\n",
        "---\n",
        "**Problem:** Create a list named `nums` with values 1, 2, and 3."
      ],
      "metadata": {
        "id": "KJaTpSVBsuAO"
      }
    },
    {
      "cell_type": "code",
      "source": [],
      "metadata": {
        "id": "oNKRJdj1s3LM"
      },
      "execution_count": null,
      "outputs": []
    },
    {
      "cell_type": "markdown",
      "source": [
        "###Exercise #3\n",
        "\n",
        "---\n",
        "\n",
        "**Problem:** Divide 13 by 7. Make sure the answer has decimals."
      ],
      "metadata": {
        "id": "21SvhgGZx9i8"
      }
    },
    {
      "cell_type": "code",
      "source": [],
      "metadata": {
        "id": "JWFKJiJZyvS0"
      },
      "execution_count": null,
      "outputs": []
    },
    {
      "cell_type": "markdown",
      "source": [
        "###Exercise #4\n",
        "\n",
        "---\n",
        "**Problem:** Starting with the code below, reassign the variable, `candybar`, to \"Milkyway.\" Check to make sure it worked."
      ],
      "metadata": {
        "id": "8_PhufOasfz6"
      }
    },
    {
      "cell_type": "code",
      "source": [
        "candybar = \"Snickers\"\n",
        "# add code here"
      ],
      "metadata": {
        "id": "iiuPR05DtmTz"
      },
      "execution_count": null,
      "outputs": []
    },
    {
      "cell_type": "markdown",
      "source": [
        "###Exercise #5\n",
        "\n",
        "---\n",
        "**Problem:** Using the code below, what will print when you `print(bananas)`? Why?\n",
        "\n",
        "```\n",
        "bananas = 4\n",
        "apples = 3\n",
        "oranges = banana\n",
        "bananas = 8\n",
        "print(bananas)\n",
        "```"
      ],
      "metadata": {
        "id": "CwVZnyLVJzUK"
      }
    },
    {
      "cell_type": "markdown",
      "source": [
        "###Exercise #6\n",
        "\n",
        "---\n",
        "**Problem:** Name a variable `name` and assign it your name. Then change the value to your instructor's name."
      ],
      "metadata": {
        "id": "haFKT9ykFGnT"
      }
    },
    {
      "cell_type": "code",
      "source": [],
      "metadata": {
        "id": "zgK-yT__vafM"
      },
      "execution_count": null,
      "outputs": []
    },
    {
      "cell_type": "markdown",
      "source": [
        "###Exercise #7\n",
        "\n",
        "---\n",
        "**Problem:** Create a list named 'grocery_list' and add 5 items. Print the list."
      ],
      "metadata": {
        "id": "Gv3521gxaoSd"
      }
    },
    {
      "cell_type": "code",
      "source": [],
      "metadata": {
        "id": "2w6oV7LTbTpH"
      },
      "execution_count": null,
      "outputs": []
    },
    {
      "cell_type": "markdown",
      "source": [
        "###Exercise #8\n",
        "\n",
        "---\n",
        "**Problem:** What are the following data types?\n",
        "\n",
        "```\n",
        "4323\n",
        "\n",
        "\"word\"\n",
        "\n",
        "[4.0, 25.4, 192.0]\n",
        "\n",
        "[\"apples\", \"bananas\", \"oranges\"]\n",
        "\n",
        "-1.231\n",
        "```"
      ],
      "metadata": {
        "id": "NSImpFSvtABU"
      }
    },
    {
      "cell_type": "markdown",
      "source": [
        "###Exercise #9\n",
        "\n",
        "---\n",
        "**Problem:** Create a list called `capitols` and list 5 U.S. State capitols. Print the list."
      ],
      "metadata": {
        "id": "fnbDhhBdaDGQ"
      }
    },
    {
      "cell_type": "code",
      "source": [],
      "metadata": {
        "id": "tbK8zwjYaAHf"
      },
      "execution_count": null,
      "outputs": []
    },
    {
      "cell_type": "markdown",
      "source": [
        "### Exercise #10\n",
        "---\n",
        "\n",
        "**Problem:** Your plant grew 5.3 inches in 10 days. Create a variable `height` and assign it to value 5.3. Create a variable `days` and assign it to value 10. Assuming your plant grew the same amount everyday, how much did it grow each day?"
      ],
      "metadata": {
        "id": "CAOsjIOJEwZr"
      }
    },
    {
      "cell_type": "code",
      "source": [],
      "metadata": {
        "id": "M93r7YoBsy0s"
      },
      "execution_count": null,
      "outputs": []
    },
    {
      "cell_type": "markdown",
      "source": [
        "###Exercise #11\n",
        "\n",
        "---\n",
        "**Problem:** Jake has 5 bags of coins. Each bag has 18 coins in it. How many coins in total does Jake have? Create variables `bags` and `coins` and print their product: `total`.\n"
      ],
      "metadata": {
        "id": "UHeue490wHt_"
      }
    },
    {
      "cell_type": "code",
      "source": [],
      "metadata": {
        "id": "TMvP1YBuxWLI"
      },
      "execution_count": null,
      "outputs": []
    },
    {
      "cell_type": "markdown",
      "source": [
        "---\n",
        "© 2023 The Coding School, All rights reserved"
      ],
      "metadata": {
        "id": "9dZCQTKTXvWU"
      }
    }
  ]
}