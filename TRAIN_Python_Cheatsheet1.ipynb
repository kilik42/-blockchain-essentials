{
  "nbformat": 4,
  "nbformat_minor": 0,
  "metadata": {
    "colab": {
      "provenance": [],
      "include_colab_link": true
    },
    "kernelspec": {
      "name": "python3",
      "display_name": "Python 3"
    },
    "language_info": {
      "name": "python"
    }
  },
  "cells": [
    {
      "cell_type": "markdown",
      "metadata": {
        "id": "view-in-github",
        "colab_type": "text"
      },
      "source": [
        "<a href=\"https://colab.research.google.com/github/kilik42/-blockchain-essentials/blob/main/TRAIN_Python_Cheatsheet1.ipynb\" target=\"_parent\"><img src=\"https://colab.research.google.com/assets/colab-badge.svg\" alt=\"Open In Colab\"/></a>"
      ]
    },
    {
      "cell_type": "markdown",
      "source": [
        "##**Python Cheatsheet: Part 1**"
      ],
      "metadata": {
        "id": "R0619ucK1ZlV"
      }
    },
    {
      "cell_type": "markdown",
      "source": [
        "---\n",
        "**Topics Covered in Lab:**\n",
        "\n",
        "* Computer Science Basics\n",
        "* IDEs\n",
        "* Print Functions\n",
        "* Variables and Data Types\n",
        "* Arithmetic Operators\n",
        "* Comments\n",
        "---"
      ],
      "metadata": {
        "id": "acOaPfvV81Tn"
      }
    },
    {
      "cell_type": "markdown",
      "source": [
        "####**Computer Science Basics**"
      ],
      "metadata": {
        "id": "Ch4yn6EM9C7v"
      }
    },
    {
      "cell_type": "markdown",
      "source": [
        "#####**Program Flow:**"
      ],
      "metadata": {
        "id": "oNaupmfy9Oxe"
      }
    },
    {
      "cell_type": "markdown",
      "source": [
        "Lines of code are executed from top to bottom and left to right. "
      ],
      "metadata": {
        "id": "OR__V6K79TN-"
      }
    },
    {
      "cell_type": "markdown",
      "source": [
        "#####**Input/Output**"
      ],
      "metadata": {
        "id": "y_GQpDCf9aVk"
      }
    },
    {
      "cell_type": "markdown",
      "source": [
        "Computer science is typically thought of in terms of input and output. You input data to the computer, the computer does something with that information, and outputs something!"
      ],
      "metadata": {
        "id": "Xm9YUvib9eCT"
      }
    },
    {
      "cell_type": "markdown",
      "source": [
        "#####**IDEs**"
      ],
      "metadata": {
        "id": "_tU-4hM79p0l"
      }
    },
    {
      "cell_type": "markdown",
      "source": [
        "Integrated Development Environments (IDEs) are softwares that programmers create, edit, and run code (programming equivolent to Word). You will be using [Google Colab](https://colab.research.google.com) for your code."
      ],
      "metadata": {
        "id": "VGwI2BBx9tKL"
      }
    },
    {
      "cell_type": "markdown",
      "source": [
        "####**Print Functions**"
      ],
      "metadata": {
        "id": "gvnqWRff-NZu"
      }
    },
    {
      "cell_type": "markdown",
      "source": [
        "Print functions allow you to print information to the computer screen. \n",
        "\n",
        "**Syntax:** \n",
        "```\n",
        "# to print a number\n",
        "print(NUM)\n",
        "\n",
        "# to print text\n",
        "print(\"TEXT\")\n",
        "\n",
        "# printing a number and text together\n",
        "print(\"TEXT\" + str(NUM))\n",
        "```"
      ],
      "metadata": {
        "id": "9aLurBxw-Tcr"
      }
    },
    {
      "cell_type": "code",
      "source": [
        "print(2)"
      ],
      "metadata": {
        "id": "CU3zrcge_Nfd"
      },
      "execution_count": null,
      "outputs": []
    },
    {
      "cell_type": "code",
      "source": [
        "print(\"Hello\")"
      ],
      "metadata": {
        "id": "Jy4eumG__Orh"
      },
      "execution_count": null,
      "outputs": []
    },
    {
      "cell_type": "code",
      "source": [
        "print(\"the number \" + str(5))"
      ],
      "metadata": {
        "id": "B3hfDiDW_Rnw"
      },
      "execution_count": null,
      "outputs": []
    },
    {
      "cell_type": "markdown",
      "source": [
        "####**Variables**"
      ],
      "metadata": {
        "id": "w9hIsRJ5-yvw"
      }
    },
    {
      "cell_type": "markdown",
      "source": [
        "Variables are like boxes used to store information in. These boxes can be called on and reused anywhere in your code.\n",
        "\n",
        "**Syntax:**\n",
        "\n",
        "```\n",
        "variable_name = value\n",
        "```"
      ],
      "metadata": {
        "id": "bhnn1iGO-6Ne"
      }
    },
    {
      "cell_type": "code",
      "source": [
        "name = \"Will\"\n",
        "print(name)"
      ],
      "metadata": {
        "id": "qYQhBZ8y-47i"
      },
      "execution_count": null,
      "outputs": []
    },
    {
      "cell_type": "markdown",
      "source": [
        "Reminder: do NOT use any of the following when naming your variables\n",
        "\n",
        "* starts with a number\n",
        "* contains a space (use _)\n",
        "* contains special characters (@, &, $, %, [, }...)\n",
        "* not a [python reserved word](https://realpython.com/lessons/reserved-keywords/)\n"
      ],
      "metadata": {
        "id": "3Aw7LFto_YyA"
      }
    },
    {
      "cell_type": "code",
      "source": [
        "# can also run this below to see the words in google colab\n",
        "help(\"keywords\")"
      ],
      "metadata": {
        "id": "i7WtyjQLnX4t"
      },
      "execution_count": null,
      "outputs": []
    },
    {
      "cell_type": "markdown",
      "source": [
        "#####**Data Types**\n",
        "\n",
        "* Integers (`int`)\n",
        "    * 1, 2, -50\n",
        "* Floats (`float`)\n",
        "    * 3.14, -5.5\n",
        "* Strings (`str`)\n",
        "    * \"Hello World\", \"apple\"\n",
        "* Lists (`list`)\n",
        "    * [1,2,3,4,5], [\"potatoes\", \"pumpkins\", \"yum\"]"
      ],
      "metadata": {
        "id": "u3ceDrob_4GE"
      }
    },
    {
      "cell_type": "markdown",
      "source": [
        "####**Arithmetic Operators**"
      ],
      "metadata": {
        "id": "m6GeOwf7AR0S"
      }
    },
    {
      "cell_type": "markdown",
      "source": [
        "An arithmetic operation is a basic calculation using two or more numbers and an operator. These operators work just like they do in real life.\n",
        "\n",
        "* Addition (`+`)\n",
        "* Subtraction (`-`)\n",
        "* Multiplication (`*`)\n",
        "* Division (`/`)\n",
        "* Exponents (`**`)\n",
        "* Modulo (`%`)\n",
        "\n"
      ],
      "metadata": {
        "id": "gY2actm8AUW3"
      }
    },
    {
      "cell_type": "code",
      "source": [
        "print(2+3)"
      ],
      "metadata": {
        "id": "g6d0SC4mAhvb"
      },
      "execution_count": null,
      "outputs": []
    },
    {
      "cell_type": "code",
      "source": [
        "print(5*9)"
      ],
      "metadata": {
        "id": "kA2wMV4PAigf"
      },
      "execution_count": null,
      "outputs": []
    },
    {
      "cell_type": "markdown",
      "source": [
        "####**Comments**"
      ],
      "metadata": {
        "id": "22DCG0H_Al36"
      }
    },
    {
      "cell_type": "markdown",
      "source": [
        "Comments are a way to add notes in your code. It is best practice to use comments consistently."
      ],
      "metadata": {
        "id": "1SHKtS9mAn2O"
      }
    },
    {
      "cell_type": "code",
      "source": [
        "# this is a comment"
      ],
      "metadata": {
        "id": "JgmI_6vsAqk2"
      },
      "execution_count": null,
      "outputs": []
    },
    {
      "cell_type": "code",
      "source": [
        "name = \"Kaya\"\n",
        "# print the name\n",
        "print(\"Their name is \"+ name)"
      ],
      "metadata": {
        "id": "mvsKBLWpAr9q"
      },
      "execution_count": null,
      "outputs": []
    },
    {
      "cell_type": "markdown",
      "source": [
        "---\n",
        "© 2023 The Coding School, All rights reserved"
      ],
      "metadata": {
        "id": "1JuF2u7RyxX0"
      }
    }
  ]
}